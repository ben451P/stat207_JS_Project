{
 "cells": [
  {
   "cell_type": "markdown",
   "id": "dcab2227",
   "metadata": {},
   "source": [
    "# Data Exploration\n",
    "\n",
    "\n",
    "The goal of this document is to articulate some important information regarding the source data of this analysis. Here, the data is explored, and key insights are drawn on the original dataset before data cleaning occurs."
   ]
  },
  {
   "cell_type": "code",
   "execution_count": 8,
   "id": "1aac8eb3",
   "metadata": {},
   "outputs": [],
   "source": [
    "import csv, os\n",
    "import pandas as pd\n",
    "import numpy as np\n",
    "import random\n",
    "import matplotlib.pyplot as plt"
   ]
  },
  {
   "cell_type": "code",
   "execution_count": 9,
   "id": "7ab5c9fa",
   "metadata": {},
   "outputs": [],
   "source": [
    "BASE_DIR = os.path.dirname(os.getcwd())"
   ]
  },
  {
   "cell_type": "code",
   "execution_count": 10,
   "id": "d68d8795",
   "metadata": {},
   "outputs": [
    {
     "data": {
      "text/plain": [
       "'u533092.csv'"
      ]
     },
     "execution_count": 10,
     "metadata": {},
     "output_type": "execute_result"
    }
   ],
   "source": [
    "DATASET_PATH = os.path.join(BASE_DIR,\"dataset\",\"KT3\")\n",
    "\n",
    "files = os.listdir(DATASET_PATH)\n",
    "\n",
    "files[0]"
   ]
  },
  {
   "cell_type": "markdown",
   "id": "862f091d",
   "metadata": {},
   "source": [
    "In the dataset, each individual file represents an individual user on the platform. Each csv file follows the pattern \"u{id}.csv\", where \"u\" denotes that the files is of an individual user and the id is the account id of said user on the multi-platform AI tutoring service in Korea, Santa. Each csv file contains all of the interactions of each user and the platform. As different users spend different amounts of time on the platform, the csv files are of different lengths."
   ]
  },
  {
   "cell_type": "code",
   "execution_count": 11,
   "id": "f86225af",
   "metadata": {},
   "outputs": [
    {
     "name": "stdout",
     "output_type": "stream",
     "text": [
      "u12378.csv has a length of 17631 lines\n",
      "u526978.csv has a length of 7 lines\n",
      "u625407.csv has a length of 19 lines\n",
      "u4990.csv has a length of 2580 lines\n",
      "u817630.csv has a length of 4 lines\n"
     ]
    }
   ],
   "source": [
    "sample_files = random.sample(files,5)\n",
    "\n",
    "for file in sample_files:\n",
    "    csv_file_length = len(list(csv.reader(open(os.path.join(DATASET_PATH,file),\"r\"))))\n",
    "    print(f\"{file} has a length of {csv_file_length} lines\")\n"
   ]
  },
  {
   "cell_type": "markdown",
   "id": "b8181826",
   "metadata": {},
   "source": [
    "From an initial exploration of the data, we see that most of the csv files seem to have only a few lines to them. This is a conjecture developed by rerunning the above cell block a few times, rarely getting any file that exceeds 200 lines. To further explore this mini-hypothesis, the length of the constituent files of the dataset is graphed below."
   ]
  },
  {
   "cell_type": "code",
   "execution_count": 12,
   "id": "4b78bf8e",
   "metadata": {},
   "outputs": [
    {
     "data": {
      "text/html": [
       "<div>\n",
       "<style scoped>\n",
       "    .dataframe tbody tr th:only-of-type {\n",
       "        vertical-align: middle;\n",
       "    }\n",
       "\n",
       "    .dataframe tbody tr th {\n",
       "        vertical-align: top;\n",
       "    }\n",
       "\n",
       "    .dataframe thead th {\n",
       "        text-align: right;\n",
       "    }\n",
       "</style>\n",
       "<table border=\"1\" class=\"dataframe\">\n",
       "  <thead>\n",
       "    <tr style=\"text-align: right;\">\n",
       "      <th></th>\n",
       "      <th>file_id</th>\n",
       "      <th>file_size</th>\n",
       "    </tr>\n",
       "  </thead>\n",
       "  <tbody>\n",
       "    <tr>\n",
       "      <th>0</th>\n",
       "      <td>u533092</td>\n",
       "      <td>44</td>\n",
       "    </tr>\n",
       "    <tr>\n",
       "      <th>1</th>\n",
       "      <td>u5901</td>\n",
       "      <td>426</td>\n",
       "    </tr>\n",
       "    <tr>\n",
       "      <th>2</th>\n",
       "      <td>u734989</td>\n",
       "      <td>16</td>\n",
       "    </tr>\n",
       "    <tr>\n",
       "      <th>3</th>\n",
       "      <td>u763609</td>\n",
       "      <td>110</td>\n",
       "    </tr>\n",
       "    <tr>\n",
       "      <th>4</th>\n",
       "      <td>u347548</td>\n",
       "      <td>32</td>\n",
       "    </tr>\n",
       "  </tbody>\n",
       "</table>\n",
       "</div>"
      ],
      "text/plain": [
       "   file_id  file_size\n",
       "0  u533092         44\n",
       "1    u5901        426\n",
       "2  u734989         16\n",
       "3  u763609        110\n",
       "4  u347548         32"
      ]
     },
     "execution_count": 12,
     "metadata": {},
     "output_type": "execute_result"
    }
   ],
   "source": [
    "length = []\n",
    "ids = []\n",
    "\n",
    "for file in files:\n",
    "    length.append(len(list(csv.reader(open(os.path.join(DATASET_PATH,file),\"r\")))))\n",
    "    ids.append(file[:-4])\n",
    "\n",
    "temp_df = pd.DataFrame({\"file_id\":ids,\"file_size\":length})\n",
    "temp_df.head(5)"
   ]
  },
  {
   "cell_type": "code",
   "execution_count": 13,
   "id": "cce0987d",
   "metadata": {},
   "outputs": [
    {
     "data": {
      "text/plain": [
       "(count    297915.000000\n",
       " mean        300.651424\n",
       " std        1428.706320\n",
       " min           3.000000\n",
       " 25%          19.000000\n",
       " 50%          28.000000\n",
       " 75%          78.000000\n",
       " max      169818.000000\n",
       " Name: file_size, dtype: float64,\n",
       " <Axes: >)"
      ]
     },
     "execution_count": 13,
     "metadata": {},
     "output_type": "execute_result"
    },
    {
     "data": {
      "image/png": "[encoded data removed]",
      "text/plain": [
       "<Figure size 640x480 with 1 Axes>"
      ]
     },
     "metadata": {},
     "output_type": "display_data"
    }
   ],
   "source": [
    "temp_df[\"file_size\"].describe(), temp_df.boxplot()"
   ]
  },
  {
   "cell_type": "code",
   "execution_count": 14,
   "id": "79f0cccf",
   "metadata": {},
   "outputs": [
    {
     "data": {
      "text/plain": [
       "np.float64(166.5)"
      ]
     },
     "execution_count": 14,
     "metadata": {},
     "output_type": "execute_result"
    }
   ],
   "source": [
    "upper_bound_outlier = (temp_df[\"file_size\"].quantile(.75) - temp_df[\"file_size\"].quantile(.25)) * 1.5 + temp_df[\"file_size\"].quantile(.75)\n",
    "upper_bound_outlier"
   ]
  },
  {
   "cell_type": "code",
   "execution_count": 15,
   "id": "39cc50ae",
   "metadata": {},
   "outputs": [
    {
     "data": {
      "text/plain": [
       "247124"
      ]
     },
     "execution_count": 15,
     "metadata": {},
     "output_type": "execute_result"
    }
   ],
   "source": [
    "outlier_files = len(temp_df[temp_df[\"file_size\"] <= 166])\n",
    "outlier_files"
   ]
  },
  {
   "cell_type": "markdown",
   "id": "2e675fce",
   "metadata": {},
   "source": [
    "As observed above, it seems that most of the records are consistenly 20 lines long, with any file over 166 lines long being considered a high outlier. This may indicate that the vast majority of users who use this platform use it only once or twice before never using it again. \n",
    "\n",
    "This could most likely be due to the free trial that the platform offers, indicating most users do not return after the free trial. This also explains the discrepancy between the reported userbase of the app and the number of csv files in the sample."
   ]
  },
  {
   "cell_type": "markdown",
   "id": "3c0ef9c9",
   "metadata": {},
   "source": [
    "As for the structure of the data itself, the dataset stores the timestamps of when students start watching and end watching lectures, but do not actually store the actual length of the lecture. This may skew results if some students watch lectures that are generally longer than other lectures, potentially creating a rift between advanced and novice students. Therefore, this analysis will be using the proportion of video watched instead of minutes spent on lecture. Due to this, the data on the length of a lecture should be retrieved from a store of all available lecture videos."
   ]
  },
  {
   "cell_type": "code",
   "execution_count": 16,
   "id": "6bfb5185",
   "metadata": {},
   "outputs": [
    {
     "data": {
      "text/html": [
       "<div>\n",
       "<style scoped>\n",
       "    .dataframe tbody tr th:only-of-type {\n",
       "        vertical-align: middle;\n",
       "    }\n",
       "\n",
       "    .dataframe tbody tr th {\n",
       "        vertical-align: top;\n",
       "    }\n",
       "\n",
       "    .dataframe thead th {\n",
       "        text-align: right;\n",
       "    }\n",
       "</style>\n",
       "<table border=\"1\" class=\"dataframe\">\n",
       "  <thead>\n",
       "    <tr style=\"text-align: right;\">\n",
       "      <th></th>\n",
       "      <th>lecture_id</th>\n",
       "      <th>part</th>\n",
       "      <th>tags</th>\n",
       "      <th>video_length</th>\n",
       "      <th>deployed_at</th>\n",
       "    </tr>\n",
       "  </thead>\n",
       "  <tbody>\n",
       "    <tr>\n",
       "      <th>0</th>\n",
       "      <td>l520</td>\n",
       "      <td>5</td>\n",
       "      <td>142</td>\n",
       "      <td>-1</td>\n",
       "      <td>-1</td>\n",
       "    </tr>\n",
       "    <tr>\n",
       "      <th>1</th>\n",
       "      <td>l592</td>\n",
       "      <td>6</td>\n",
       "      <td>142</td>\n",
       "      <td>-1</td>\n",
       "      <td>-1</td>\n",
       "    </tr>\n",
       "    <tr>\n",
       "      <th>2</th>\n",
       "      <td>l1259</td>\n",
       "      <td>1</td>\n",
       "      <td>222</td>\n",
       "      <td>359000</td>\n",
       "      <td>1570424729123</td>\n",
       "    </tr>\n",
       "    <tr>\n",
       "      <th>3</th>\n",
       "      <td>l1260</td>\n",
       "      <td>1</td>\n",
       "      <td>220</td>\n",
       "      <td>487000</td>\n",
       "      <td>1570424738105</td>\n",
       "    </tr>\n",
       "    <tr>\n",
       "      <th>4</th>\n",
       "      <td>l1261</td>\n",
       "      <td>1</td>\n",
       "      <td>221</td>\n",
       "      <td>441000</td>\n",
       "      <td>1570424743162</td>\n",
       "    </tr>\n",
       "  </tbody>\n",
       "</table>\n",
       "</div>"
      ],
      "text/plain": [
       "  lecture_id  part  tags  video_length    deployed_at\n",
       "0       l520     5   142            -1             -1\n",
       "1       l592     6   142            -1             -1\n",
       "2      l1259     1   222        359000  1570424729123\n",
       "3      l1260     1   220        487000  1570424738105\n",
       "4      l1261     1   221        441000  1570424743162"
      ]
     },
     "execution_count": 16,
     "metadata": {},
     "output_type": "execute_result"
    }
   ],
   "source": [
    "LECTURE_DIR = os.path.join(BASE_DIR,\"dataset\",\"lectures.csv\")\n",
    "lecture_df = pd.read_csv(LECTURE_DIR)\n",
    "lecture_df.head(5)"
   ]
  },
  {
   "cell_type": "markdown",
   "id": "9bfc5474",
   "metadata": {},
   "source": [
    "One of the things immidiately evident is the pressence of \"-1\" denoting a missing value for video length and time of deployment, indicating that some videos may have never been released or were taken down."
   ]
  },
  {
   "cell_type": "code",
   "execution_count": 17,
   "id": "b8e2b976",
   "metadata": {},
   "outputs": [
    {
     "data": {
      "text/plain": [
       "lecture_id        0\n",
       "part            437\n",
       "tags            437\n",
       "video_length    480\n",
       "deployed_at     453\n",
       "dtype: int64"
      ]
     },
     "execution_count": 17,
     "metadata": {},
     "output_type": "execute_result"
    }
   ],
   "source": [
    "lecture_df.isin([-1]).sum()"
   ]
  },
  {
   "cell_type": "code",
   "execution_count": 18,
   "id": "9517f671",
   "metadata": {},
   "outputs": [
    {
     "data": {
      "text/plain": [
       "1021"
      ]
     },
     "execution_count": 18,
     "metadata": {},
     "output_type": "execute_result"
    }
   ],
   "source": [
    "lecture_length = len(lecture_df)\n",
    "lecture_length"
   ]
  },
  {
   "cell_type": "markdown",
   "id": "81f18caa",
   "metadata": {},
   "source": [
    "It seems that a lot of the lectures do not have video lengths. This may force a droppage of a large number of student data points if these lectures are taken by the students.\n",
    "\n",
    "The following code attempts to check exactly how many of the data points of student data would have to be dropped if proceeding with lecture watch time as a proportion and not a quantitative variable."
   ]
  },
  {
   "cell_type": "code",
   "execution_count": 19,
   "id": "8ab3640e",
   "metadata": {},
   "outputs": [],
   "source": [
    "lecture_df[\"data_available\"] = lecture_df[\"video_length\"] != -1\n",
    "available_lecture_check = {row[\"lecture_id\"]:row[\"data_available\"] for _, row in lecture_df.iterrows()}"
   ]
  },
  {
   "cell_type": "code",
   "execution_count": 20,
   "id": "badd3d7f",
   "metadata": {},
   "outputs": [
    {
     "data": {
      "text/html": [
       "<div>\n",
       "<style scoped>\n",
       "    .dataframe tbody tr th:only-of-type {\n",
       "        vertical-align: middle;\n",
       "    }\n",
       "\n",
       "    .dataframe tbody tr th {\n",
       "        vertical-align: top;\n",
       "    }\n",
       "\n",
       "    .dataframe thead th {\n",
       "        text-align: right;\n",
       "    }\n",
       "</style>\n",
       "<table border=\"1\" class=\"dataframe\">\n",
       "  <thead>\n",
       "    <tr style=\"text-align: right;\">\n",
       "      <th></th>\n",
       "      <th>student_id</th>\n",
       "    </tr>\n",
       "  </thead>\n",
       "  <tbody>\n",
       "    <tr>\n",
       "      <th>0</th>\n",
       "      <td>u485334</td>\n",
       "    </tr>\n",
       "    <tr>\n",
       "      <th>1</th>\n",
       "      <td>u483745</td>\n",
       "    </tr>\n",
       "    <tr>\n",
       "      <th>2</th>\n",
       "      <td>u300603</td>\n",
       "    </tr>\n",
       "    <tr>\n",
       "      <th>3</th>\n",
       "      <td>u683931</td>\n",
       "    </tr>\n",
       "    <tr>\n",
       "      <th>4</th>\n",
       "      <td>u510893</td>\n",
       "    </tr>\n",
       "  </tbody>\n",
       "</table>\n",
       "</div>"
      ],
      "text/plain": [
       "  student_id\n",
       "0    u485334\n",
       "1    u483745\n",
       "2    u300603\n",
       "3    u683931\n",
       "4    u510893"
      ]
     },
     "execution_count": 20,
     "metadata": {},
     "output_type": "execute_result"
    }
   ],
   "source": [
    "drop = []\n",
    "for file_name in os.listdir(DATASET_PATH):\n",
    "    with open(os.path.join(DATASET_PATH,file_name),\"r\") as file:\n",
    "        reader = csv.reader(file)\n",
    "        #to skip file header\n",
    "        next(reader)\n",
    "\n",
    "        for line in reader:\n",
    "            if line[2] and line[2][0] == \"l\":\n",
    "                if not available_lecture_check.get(line[2],0):\n",
    "                    #add the user name to the drop list\n",
    "                    drop.append(file_name[:-4])\n",
    "                    break\n",
    "                \n",
    "drop = pd.DataFrame({\"student_id\":drop})\n",
    "drop.head(5)"
   ]
  },
  {
   "cell_type": "code",
   "execution_count": 21,
   "id": "0f809cf4",
   "metadata": {},
   "outputs": [
    {
     "data": {
      "text/plain": [
       "16303"
      ]
     },
     "execution_count": 21,
     "metadata": {},
     "output_type": "execute_result"
    }
   ],
   "source": [
    "len(drop)"
   ]
  },
  {
   "cell_type": "code",
   "execution_count": 22,
   "id": "6d3fbe0e",
   "metadata": {},
   "outputs": [
    {
     "data": {
      "text/plain": [
       "0.0547236627897219"
      ]
     },
     "execution_count": 22,
     "metadata": {},
     "output_type": "execute_result"
    }
   ],
   "source": [
    "len(drop) / len(os.listdir(DATASET_PATH))"
   ]
  },
  {
   "cell_type": "markdown",
   "id": "b672c87c",
   "metadata": {},
   "source": [
    "Although almost half of the lecture videos are missing length data, only around 5% of the total student data points use some of these lectures. This does not seem horrible to drop. However, this 5% could primarily include older students, who may have watched certain lectures before they were taken down. To explore this, the line counts of the would be drops are compared with the overall line counts to determine if this hypothesis could hold true."
   ]
  },
  {
   "cell_type": "code",
   "execution_count": 23,
   "id": "4ea0538b",
   "metadata": {},
   "outputs": [
    {
     "data": {
      "text/plain": [
       "(count     16303.000000\n",
       " mean       2412.318040\n",
       " std        4439.874048\n",
       " min           3.000000\n",
       " 25%         326.000000\n",
       " 50%        1017.000000\n",
       " 75%        2652.000000\n",
       " max      169818.000000\n",
       " Name: data, dtype: float64,\n",
       " count    297915.000000\n",
       " mean        300.651424\n",
       " std        1428.706320\n",
       " min           3.000000\n",
       " 25%          19.000000\n",
       " 50%          28.000000\n",
       " 75%          78.000000\n",
       " max      169818.000000\n",
       " Name: file_size, dtype: float64)"
      ]
     },
     "execution_count": 23,
     "metadata": {},
     "output_type": "execute_result"
    }
   ],
   "source": [
    "check = []\n",
    "for _, row in temp_df.iterrows():\n",
    "    if drop[\"student_id\"].isin([row[\"file_id\"]]).sum():\n",
    "        check.append(row[\"file_size\"])\n",
    "\n",
    "check = pd.DataFrame({\"data\":check})\n",
    "check[\"data\"].describe(), temp_df[\"file_size\"].describe()"
   ]
  },
  {
   "cell_type": "code",
   "execution_count": 24,
   "id": "47cff55e",
   "metadata": {},
   "outputs": [
    {
     "data": {
      "text/plain": [
       "16303"
      ]
     },
     "execution_count": 24,
     "metadata": {},
     "output_type": "execute_result"
    }
   ],
   "source": [
    "len(check[\"data\"])"
   ]
  },
  {
   "cell_type": "markdown",
   "id": "53542d71",
   "metadata": {},
   "source": [
    "From this analysis, it can be seen that the older users who have more time logged with the application would make up the majority of the dropped values. Because of this, this analysis will not be using proportions, and will accept the limitation of lecture length differences as opposed to newer and older user differences."
   ]
  },
  {
   "cell_type": "markdown",
   "id": "5b8f71d1",
   "metadata": {},
   "source": [
    "The responses and questions are stored in a similar manner. The main KT3 dataset only stores the user answer to the question, but not whether or not the answer was correct, or what the correct answer was. For this, we need to consult a seperate spreadsheet of all question ids and their corresponding correct answers. The same checks as before are made to ensure the quality of this data."
   ]
  },
  {
   "cell_type": "code",
   "execution_count": 25,
   "id": "45dd8025",
   "metadata": {},
   "outputs": [
    {
     "data": {
      "text/html": [
       "<div>\n",
       "<style scoped>\n",
       "    .dataframe tbody tr th:only-of-type {\n",
       "        vertical-align: middle;\n",
       "    }\n",
       "\n",
       "    .dataframe tbody tr th {\n",
       "        vertical-align: top;\n",
       "    }\n",
       "\n",
       "    .dataframe thead th {\n",
       "        text-align: right;\n",
       "    }\n",
       "</style>\n",
       "<table border=\"1\" class=\"dataframe\">\n",
       "  <thead>\n",
       "    <tr style=\"text-align: right;\">\n",
       "      <th></th>\n",
       "      <th>question_id</th>\n",
       "      <th>bundle_id</th>\n",
       "      <th>explanation_id</th>\n",
       "      <th>correct_answer</th>\n",
       "      <th>part</th>\n",
       "      <th>tags</th>\n",
       "      <th>deployed_at</th>\n",
       "    </tr>\n",
       "  </thead>\n",
       "  <tbody>\n",
       "    <tr>\n",
       "      <th>0</th>\n",
       "      <td>q1</td>\n",
       "      <td>b1</td>\n",
       "      <td>e1</td>\n",
       "      <td>b</td>\n",
       "      <td>1</td>\n",
       "      <td>1;2;179;181</td>\n",
       "      <td>1558093217098</td>\n",
       "    </tr>\n",
       "    <tr>\n",
       "      <th>1</th>\n",
       "      <td>q2</td>\n",
       "      <td>b2</td>\n",
       "      <td>e2</td>\n",
       "      <td>a</td>\n",
       "      <td>1</td>\n",
       "      <td>15;2;182</td>\n",
       "      <td>1558093219720</td>\n",
       "    </tr>\n",
       "    <tr>\n",
       "      <th>2</th>\n",
       "      <td>q3</td>\n",
       "      <td>b3</td>\n",
       "      <td>e3</td>\n",
       "      <td>b</td>\n",
       "      <td>1</td>\n",
       "      <td>14;2;179;183</td>\n",
       "      <td>1558093222784</td>\n",
       "    </tr>\n",
       "    <tr>\n",
       "      <th>3</th>\n",
       "      <td>q4</td>\n",
       "      <td>b4</td>\n",
       "      <td>e4</td>\n",
       "      <td>b</td>\n",
       "      <td>1</td>\n",
       "      <td>9;2;179;184</td>\n",
       "      <td>1558093225357</td>\n",
       "    </tr>\n",
       "    <tr>\n",
       "      <th>4</th>\n",
       "      <td>q5</td>\n",
       "      <td>b5</td>\n",
       "      <td>e5</td>\n",
       "      <td>c</td>\n",
       "      <td>1</td>\n",
       "      <td>8;2;179;181</td>\n",
       "      <td>1558093228439</td>\n",
       "    </tr>\n",
       "  </tbody>\n",
       "</table>\n",
       "</div>"
      ],
      "text/plain": [
       "  question_id bundle_id explanation_id correct_answer  part          tags  \\\n",
       "0          q1        b1             e1              b     1   1;2;179;181   \n",
       "1          q2        b2             e2              a     1      15;2;182   \n",
       "2          q3        b3             e3              b     1  14;2;179;183   \n",
       "3          q4        b4             e4              b     1   9;2;179;184   \n",
       "4          q5        b5             e5              c     1   8;2;179;181   \n",
       "\n",
       "     deployed_at  \n",
       "0  1558093217098  \n",
       "1  1558093219720  \n",
       "2  1558093222784  \n",
       "3  1558093225357  \n",
       "4  1558093228439  "
      ]
     },
     "execution_count": 25,
     "metadata": {},
     "output_type": "execute_result"
    }
   ],
   "source": [
    "QUESTION_DIR = os.path.join(BASE_DIR,\"dataset\",\"questions.csv\")\n",
    "question_df = pd.read_csv(QUESTION_DIR)\n",
    "question_df.head(5)"
   ]
  },
  {
   "cell_type": "code",
   "execution_count": 26,
   "id": "9ffbe85b",
   "metadata": {},
   "outputs": [
    {
     "data": {
      "text/plain": [
       "question_id          0\n",
       "bundle_id            0\n",
       "explanation_id       0\n",
       "correct_answer       0\n",
       "part                 0\n",
       "tags                 0\n",
       "deployed_at       2101\n",
       "dtype: int64"
      ]
     },
     "execution_count": 26,
     "metadata": {},
     "output_type": "execute_result"
    }
   ],
   "source": [
    "question_df.isin([-1]).sum()"
   ]
  },
  {
   "cell_type": "markdown",
   "id": "2b7fe2d0",
   "metadata": {},
   "source": [
    "As there do not seem to be any questions missing a \"correct answer\" column, there are no observations that need to be dropped."
   ]
  }
 ],
 "metadata": {
  "kernelspec": {
   "display_name": "venv (3.11.4)",
   "language": "python",
   "name": "python3"
  },
  "language_info": {
   "codemirror_mode": {
    "name": "ipython",
    "version": 3
   },
   "file_extension": ".py",
   "mimetype": "text/x-python",
   "name": "python",
   "nbconvert_exporter": "python",
   "pygments_lexer": "ipython3",
   "version": "3.11.4"
  }
 },
 "nbformat": 4,
 "nbformat_minor": 5
}
