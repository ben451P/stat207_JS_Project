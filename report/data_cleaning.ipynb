{
 "cells": [
  {
   "cell_type": "markdown",
   "id": "06075441",
   "metadata": {},
   "source": [
    "# Data Cleaning\n",
    "\n",
    "\n",
    "The goal of this document is to show the process in which the data is transformed from the KT3 dataset into the format that will be used to answer the overall research quesiton:\\\n",
    "\\\n",
    "**How does the time spent on lectures impact the performance of students in online courses?**"
   ]
  },
  {
   "cell_type": "code",
   "execution_count": 67,
   "id": "6c631b42",
   "metadata": {},
   "outputs": [],
   "source": [
    "import csv, os\n",
    "import pandas as pd\n",
    "import numpy as np\n",
    "import random\n",
    "import matplotlib.pyplot as plt"
   ]
  },
  {
   "cell_type": "code",
   "execution_count": 68,
   "id": "8f0f4711",
   "metadata": {},
   "outputs": [],
   "source": [
    "BASE_DIR = os.path.dirname(os.getcwd())"
   ]
  },
  {
   "cell_type": "code",
   "execution_count": 69,
   "id": "e7234e17",
   "metadata": {},
   "outputs": [],
   "source": [
    "DATASET_PATH = os.path.join(BASE_DIR,\"dataset\",\"KT3\")\n",
    "CLEAN_DATASET_PATH = os.path.join(BASE_DIR,\"cleaned_dataset\")\n",
    "CLEAN_DATASET_CSV_PATH = os.path.join(CLEAN_DATASET_PATH,\"dataset.csv\")"
   ]
  },
  {
   "cell_type": "markdown",
   "id": "9389b2da",
   "metadata": {},
   "source": [
    "Here, the structure of where and how question answer data is stored is explored to extract the question answer to compare to the correct answer later on. From the exploration below, a few key takeaways can be inferred.\n",
    "\n",
    "1. Question rows lie between rows detailing the opening and closing of a bundle. \n",
    "2. Bundles have one question each, but not all bundles contain questions. \n",
    "3. There can be multiple instances of one question, but only the last one counts when the problem is submitted."
   ]
  },
  {
   "cell_type": "code",
   "execution_count": 70,
   "id": "47a14c6e",
   "metadata": {},
   "outputs": [
    {
     "name": "stdout",
     "output_type": "stream",
     "text": [
      "Bundle b3011 contains questions 1 instances of q4479\n",
      "Bundle b924 contains questions 1 instances of q924\n",
      "Bundle b3351 contains questions 1 instances of q4819\n",
      "Bundle b3587 contains questions 1 instances of q5055\n",
      "Bundle b2229 contains questions 1 instances of q3697\n",
      "Bundle b190 contains questions 1 instances of q190\n",
      "Bundle b7371 contains questions 1 instances of q10020\n",
      "Bundle b2482 contains questions 1 instances of q3950\n",
      "Bundle b4004 contains questions 1 instances of q5472\n",
      "Bundle b5531 contains questions 1 instances of q8060\n",
      "Bundle b5632 contains questions 1 instances of q8161\n",
      "Bundle b2557 contains questions 1 instances of q4025\n",
      "Bundle b4272 contains questions 1 instances of q5740\n",
      "Bundle b4337 contains questions 1 instances of q5805\n",
      "Bundle b2667 contains questions 1 instances of q4135\n",
      "Bundle b4096 contains questions 1 instances of q5564\n",
      "Bundle b2165 contains questions 1 instances of q3633\n",
      "Bundle b4743 contains questions 1 instances of q6211\n",
      "Bundle b3131 contains questions 1 instances of q4599\n",
      "Bundle b4288 contains questions 1 instances of q5756\n",
      "Bundle b2482 contains questions 1 instances of q3950\n",
      "Bundle b2635 contains questions 1 instances of q4103\n",
      "Bundle b4618 contains questions 1 instances of q6086\n",
      "Bundle b5013 contains questions 2 instances of q6481\n",
      "Bundle b5587 contains questions 1 instances of q8116\n",
      "Bundle b5520 contains questions 1 instances of q8049\n",
      "Bundle b5598 contains questions 1 instances of q8127\n",
      "Bundle b8105 contains questions 1 instances of q11052\n",
      "Bundle b94 contains questions 1 instances of q94\n",
      "Bundle b5596 contains questions 1 instances of q8125\n",
      "Bundle b5544 contains questions 1 instances of q8073\n",
      "Bundle b8001 contains questions 1 instances of q10948\n",
      "Bundle b132 contains questions 1 instances of q132\n",
      "Bundle b5035 contains questions 1 instances of q6503\n",
      "Bundle b3765 contains questions 1 instances of q5233\n",
      "Bundle b3307 contains questions 1 instances of q4775\n",
      "Bundle b11301 contains questions 1 instances of q17064\n",
      "Bundle b3379 contains questions 1 instances of q4847\n",
      "Bundle b4191 contains questions 1 instances of q5659\n",
      "Bundle b3861 contains questions 1 instances of q5329\n",
      "Bundle b11554 contains questions 1 instances of q17317\n",
      "Bundle b4210 contains questions 1 instances of q5678\n",
      "Bundle b2463 contains questions 1 instances of q3931\n",
      "Bundle b4964 contains questions 1 instances of q6432\n",
      "Bundle b5912 contains questions 1 instances of q8561\n",
      "Bundle b5030 contains questions 1 instances of q6498\n",
      "Bundle b3550 contains questions 1 instances of q5018\n",
      "Bundle b5833 contains questions 2 instances of q8482\n",
      "Bundle b7277 contains questions 1 instances of q9926\n",
      "Bundle b4766 contains questions 1 instances of q6234\n",
      "Bundle b3354 contains questions 1 instances of q4822\n",
      "Bundle b2970 contains questions 1 instances of q4438\n",
      "Bundle b6289 contains questions 1 instances of q8938\n",
      "Bundle b4819 contains questions 1 instances of q6287\n",
      "Bundle b1359 contains questions 1 instances of q1359\n",
      "Bundle b4337 contains questions 1 instances of q5805\n",
      "Bundle b3361 contains questions 1 instances of q4829\n",
      "Bundle b4207 contains questions 1 instances of q5675\n",
      "Bundle b3524 contains questions 1 instances of q4992\n",
      "Bundle b297 contains questions 1 instances of q297\n",
      "Bundle b3599 contains questions 1 instances of q5067\n",
      "Bundle b4182 contains questions 1 instances of q5650\n",
      "Bundle b4716 contains questions 1 instances of q6184\n",
      "Bundle b6327 contains questions 1 instances of q8976\n",
      "Bundle b4922 contains questions 1 instances of q6390\n",
      "Bundle b3753 contains questions 1 instances of q5221\n",
      "Bundle b3153 contains questions 2 instances of q4621\n",
      "Bundle b6332 contains questions 2 instances of q8981\n",
      "Bundle b5034 contains questions 1 instances of q6502\n",
      "Bundle b3039 contains questions 2 instances of q4507\n",
      "Bundle b2361 contains questions 1 instances of q3829\n",
      "Bundle b2554 contains questions 1 instances of q4022\n",
      "Bundle b835 contains questions 1 instances of q835\n",
      "Bundle b226 contains questions 1 instances of q226\n",
      "Bundle b4484 contains questions 1 instances of q5952\n",
      "Bundle b134 contains questions 1 instances of q134\n",
      "Bundle b2656 contains questions 5 instances of q4124\n",
      "Bundle b2662 contains questions 1 instances of q4130\n",
      "Bundle b3551 contains questions 1 instances of q5019\n",
      "Bundle b3139 contains questions 1 instances of q4607\n",
      "Bundle b3064 contains questions 11 instances of q4532\n",
      "Bundle b3956 contains questions 1 instances of q5424\n",
      "Bundle b4436 contains questions 1 instances of q5904\n",
      "Bundle b4407 contains questions 1 instances of q5875\n",
      "Bundle b1276 contains questions 1 instances of q1276\n",
      "Bundle b326 contains questions 1 instances of q326\n",
      "Bundle b3307 contains questions 1 instances of q4775\n",
      "Bundle b4308 contains questions 1 instances of q5776\n",
      "Bundle b377 contains questions 1 instances of q377\n",
      "Bundle b3007 contains questions 1 instances of q4475\n",
      "Bundle b2622 contains questions 1 instances of q4090\n",
      "Bundle b5527 contains questions 1 instances of q8056\n",
      "Bundle b2882 contains questions 2 instances of q4350\n",
      "Bundle b7082 contains questions 1 instances of q9731\n",
      "Bundle b8089 contains questions 1 instances of q11036\n",
      "Bundle b8251 contains questions 1 instances of q11198\n",
      "Bundle b8251 contains questions 5 instances of q11198\n",
      "Bundle b100 contains questions 2 instances of q100\n",
      "Bundle b100 contains questions 1 instances of q100\n",
      "Bundle b4818 contains questions 1 instances of q6286\n",
      "Bundle b3787 contains questions 1 instances of q5255\n",
      "Bundle b3953 contains questions 1 instances of q5421\n",
      "Bundle b856 contains questions 1 instances of q856\n",
      "Bundle b383 contains questions 1 instances of q383\n",
      "Bundle b401 contains questions 1 instances of q401\n",
      "Bundle b388 contains questions 1 instances of q388\n",
      "Bundle b748 contains questions 1 instances of q748\n",
      "Bundle b3568 contains questions 1 instances of q5036\n",
      "Bundle b5754 contains questions 1 instances of q8403\n",
      "Bundle b4723 contains questions 1 instances of q6191\n",
      "Bundle b8299 contains questions 1 instances of q11246\n",
      "Bundle b8280 contains questions 1 instances of q11227\n",
      "Bundle b3722 contains questions 1 instances of q5190\n",
      "Bundle b4 contains questions 1 instances of q4\n",
      "Bundle b8045 contains questions 1 instances of q10992\n",
      "Bundle b511 contains questions 1 instances of q511\n",
      "Bundle b685 contains questions 1 instances of q685\n",
      "Bundle b484 contains questions 1 instances of q484\n",
      "Bundle b11820 contains questions 1 instances of q17757\n",
      "Bundle b596 contains questions 1 instances of q596\n",
      "Bundle b1257 contains questions 1 instances of q1257\n",
      "Bundle b1171 contains questions 1 instances of q1171\n",
      "Bundle b11984 contains questions 1 instances of q17921\n",
      "Bundle b1315 contains questions 1 instances of q1315\n",
      "Bundle b654 contains questions 1 instances of q654\n",
      "Bundle b4166 contains questions 3 instances of q5634\n",
      "Bundle b7000 contains questions 1 instances of q9649\n",
      "Bundle b4337 contains questions 1 instances of q5805\n",
      "Bundle b6043 contains questions 2 instances of q8692\n",
      "Bundle b3384 contains questions 2 instances of q4852\n",
      "Bundle b4754 contains questions 2 instances of q6222\n"
     ]
    }
   ],
   "source": [
    "for file_name in random.sample(os.listdir(DATASET_PATH),10):\n",
    "    with open(os.path.join(DATASET_PATH,file_name),\"r\") as file:\n",
    "        reader = csv.reader(file)\n",
    "        next(reader) #for the header\n",
    "\n",
    "        bundle_flag = 0\n",
    "        to_print = dict()\n",
    "        for line in reader:\n",
    "            if line[2][0] == \"b\":\n",
    "                bundle_flag = ~bundle_flag\n",
    "                if not bundle_flag and len(to_print):\n",
    "                    print(f'''Bundle {line[2]} contains questions {\",\".join([f\"{value} instances of {key}\" for key,value in to_print.items()])}''')\n",
    "                    to_print = dict()\n",
    "            if line[2][0] == \"q\" and bundle_flag:\n",
    "                if not to_print.get(line[2],0):\n",
    "                    to_print[line[2]] = 0\n",
    "                to_print[line[2]] += 1\n"
   ]
  },
  {
   "cell_type": "markdown",
   "id": "925a060c",
   "metadata": {},
   "source": [
    "Lectures are more straightforward. Opening a lecture follows with a row closing this lecture. Thus, to calculate the average time each student spends on lectures, the difference between the timestamps of the intial row and the row below (entering and exiting row) can be found, then averaged later on."
   ]
  },
  {
   "cell_type": "code",
   "execution_count": 71,
   "id": "588c9ef3",
   "metadata": {},
   "outputs": [
    {
     "name": "stdout",
     "output_type": "stream",
     "text": [
      "---\n",
      "---\n",
      "---\n",
      "---\n",
      "---\n",
      "---\n",
      "---\n",
      "---\n",
      "---\n",
      "---\n"
     ]
    }
   ],
   "source": [
    "for file_name in random.sample(os.listdir(DATASET_PATH),10):\n",
    "    with open(os.path.join(DATASET_PATH,file_name),\"r\") as file:\n",
    "        reader = csv.reader(file)\n",
    "        next(reader) #for the header\n",
    "\n",
    "        for line in reader:\n",
    "            if line[2][0] == \"l\":\n",
    "                next_line = next(reader)\n",
    "                print(f\"{line[2]} start, {next_line[2]} end, difference in time: {int(next_line[0]) - int(line[0])}\")\n",
    "        print(\"---\")\n",
    "                "
   ]
  },
  {
   "cell_type": "markdown",
   "id": "6cc048bb",
   "metadata": {},
   "source": [
    "One concern that the code above raises is that some users may not have any lecture time at all. Counting these data points as \"0 hours of lecture\" may be inaccurate, as there is no data on how much time the student spends on lectures as they do not spend it with the app. Therefore, these datapoints are excluded.\n",
    "\n",
    "Students who do not answer any questions with the system similarly are data points without sufficient data, and are removed."
   ]
  },
  {
   "cell_type": "code",
   "execution_count": 72,
   "id": "68b39117",
   "metadata": {},
   "outputs": [
    {
     "data": {
      "text/plain": [
       "255427"
      ]
     },
     "execution_count": 72,
     "metadata": {},
     "output_type": "execute_result"
    }
   ],
   "source": [
    "included_data = []\n",
    "num_removed = 0\n",
    "for file_name in os.listdir(DATASET_PATH):\n",
    "    file_path = os.path.join(DATASET_PATH,file_name)\n",
    "    with open(file_path,\"r\") as file:\n",
    "        reader = csv.reader(file)\n",
    "        #to skip file header\n",
    "        next(reader)\n",
    "\n",
    "        conditions = {\"lectures\":0,\"questions\":0}\n",
    "        for line in reader:\n",
    "            if line[2]:\n",
    "                if line[2][0] == \"l\":\n",
    "                    conditions[\"lectures\"] = 1\n",
    "                elif line[2][0] == \"q\":\n",
    "                    conditions[\"questions\"] = 1\n",
    "\n",
    "        if all(conditions.values()):        \n",
    "            included_data.append(file_name)\n",
    "        else:num_removed += 1\n",
    "                \n",
    "num_removed"
   ]
  },
  {
   "cell_type": "code",
   "execution_count": 73,
   "id": "6998804d",
   "metadata": {},
   "outputs": [
    {
     "data": {
      "text/plain": [
       "['u485334.csv', 'u384503.csv']"
      ]
     },
     "execution_count": 73,
     "metadata": {},
     "output_type": "execute_result"
    }
   ],
   "source": [
    "included_data[:2]"
   ]
  },
  {
   "cell_type": "markdown",
   "id": "ae3dc1d0",
   "metadata": {},
   "source": [
    "After performing this step, the data is then transformed into a dataset with the format\n",
    "- UserID: The id of the student\n",
    "- Lecture Hours: The total number of hours spent on lectures represented in milliseconds\n",
    "- Correct Percent: The percentage of historical lifetime questions answered correctly with the application"
   ]
  },
  {
   "cell_type": "code",
   "execution_count": 74,
   "id": "76c5c458",
   "metadata": {},
   "outputs": [],
   "source": [
    "def transform_data(data):\n",
    "    #create a key with questions and their corresponding correct answers\n",
    "    question_key = {}\n",
    "    with open(os.path.join(BASE_DIR,\"dataset\",\"questions.csv\"),\"r\") as file:\n",
    "        reader = csv.reader(file)\n",
    "        next(reader) #for the header\n",
    "        for line in reader:\n",
    "            if str(line[3]) != \"-1\":\n",
    "                question_key[line[0]] = line[3]\n",
    "\n",
    "    to_return = {\"UserID\":[],\"Lecture_Hours\":[],\"Correct_Percent\":[]}\n",
    "\n",
    "    for file_name in data:\n",
    "        id = file_name[:file_name.index(\".\")]\n",
    "        to_return[\"UserID\"].append(id)\n",
    "        with open(os.path.join(DATASET_PATH,file_name),\"r\") as file:\n",
    "            reader = csv.reader(file)\n",
    "            next(reader) #for the header\n",
    "\n",
    "            question_lock = 0\n",
    "            prev_line = []\n",
    "\n",
    "            # assume this will never be 0/0 because the code above removes all students with no questions answered\n",
    "            num_correct = 0\n",
    "            total_questions = 0\n",
    "            tot_lecture_time = 0\n",
    "\n",
    "            for line in reader:\n",
    "                if line[2]:\n",
    "                    if question_lock and line[2][0] != \"q\":\n",
    "                        total_questions += 1\n",
    "                        num_correct += int(prev_line[4] == question_key[prev_line[2]])\n",
    "                        question_lock = 0\n",
    "                    if line[2][0] == \"q\":\n",
    "                        question_lock = 1\n",
    "                    if line[2][0] == \"l\":\n",
    "                        next_line = next(reader)\n",
    "                        tot_lecture_time += int(next_line[0]) - int(line[0])\n",
    "                    prev_line = line\n",
    "            #just in case the last line is a question answer\n",
    "            if prev_line[2][0] == \"q\":\n",
    "                total_questions += 1\n",
    "                num_correct += int(prev_line[4] == question_key[prev_line[2]])\n",
    "\n",
    "            to_return[\"Lecture_Hours\"].append(tot_lecture_time)\n",
    "            to_return[\"Correct_Percent\"].append(num_correct / total_questions)\n",
    "        \n",
    "    to_return = pd.DataFrame(to_return)\n",
    "\n",
    "    return to_return"
   ]
  },
  {
   "cell_type": "code",
   "execution_count": 75,
   "id": "dfda67dd",
   "metadata": {},
   "outputs": [],
   "source": [
    "if not os.path.exists(CLEAN_DATASET_CSV_PATH):\n",
    "    df = transform_data(included_data)"
   ]
  },
  {
   "cell_type": "code",
   "execution_count": 76,
   "id": "ec37ebf3",
   "metadata": {},
   "outputs": [
    {
     "data": {
      "text/html": [
       "<div>\n",
       "<style scoped>\n",
       "    .dataframe tbody tr th:only-of-type {\n",
       "        vertical-align: middle;\n",
       "    }\n",
       "\n",
       "    .dataframe tbody tr th {\n",
       "        vertical-align: top;\n",
       "    }\n",
       "\n",
       "    .dataframe thead th {\n",
       "        text-align: right;\n",
       "    }\n",
       "</style>\n",
       "<table border=\"1\" class=\"dataframe\">\n",
       "  <thead>\n",
       "    <tr style=\"text-align: right;\">\n",
       "      <th></th>\n",
       "      <th>UserID</th>\n",
       "      <th>Lecture_Hours</th>\n",
       "      <th>Correct_Percent</th>\n",
       "    </tr>\n",
       "  </thead>\n",
       "  <tbody>\n",
       "    <tr>\n",
       "      <th>0</th>\n",
       "      <td>u485334</td>\n",
       "      <td>456389</td>\n",
       "      <td>0.754237</td>\n",
       "    </tr>\n",
       "    <tr>\n",
       "      <th>1</th>\n",
       "      <td>u384503</td>\n",
       "      <td>190414</td>\n",
       "      <td>0.675000</td>\n",
       "    </tr>\n",
       "    <tr>\n",
       "      <th>2</th>\n",
       "      <td>u525828</td>\n",
       "      <td>389228</td>\n",
       "      <td>0.708609</td>\n",
       "    </tr>\n",
       "    <tr>\n",
       "      <th>3</th>\n",
       "      <td>u329291</td>\n",
       "      <td>200190</td>\n",
       "      <td>0.391304</td>\n",
       "    </tr>\n",
       "    <tr>\n",
       "      <th>4</th>\n",
       "      <td>u12223</td>\n",
       "      <td>249467</td>\n",
       "      <td>0.750000</td>\n",
       "    </tr>\n",
       "  </tbody>\n",
       "</table>\n",
       "</div>"
      ],
      "text/plain": [
       "    UserID  Lecture_Hours  Correct_Percent\n",
       "0  u485334         456389         0.754237\n",
       "1  u384503         190414         0.675000\n",
       "2  u525828         389228         0.708609\n",
       "3  u329291         200190         0.391304\n",
       "4   u12223         249467         0.750000"
      ]
     },
     "execution_count": 76,
     "metadata": {},
     "output_type": "execute_result"
    }
   ],
   "source": [
    "df.head(5)"
   ]
  },
  {
   "cell_type": "code",
   "execution_count": 79,
   "id": "549b0d77",
   "metadata": {},
   "outputs": [
    {
     "data": {
      "text/html": [
       "<div>\n",
       "<style scoped>\n",
       "    .dataframe tbody tr th:only-of-type {\n",
       "        vertical-align: middle;\n",
       "    }\n",
       "\n",
       "    .dataframe tbody tr th {\n",
       "        vertical-align: top;\n",
       "    }\n",
       "\n",
       "    .dataframe thead th {\n",
       "        text-align: right;\n",
       "    }\n",
       "</style>\n",
       "<table border=\"1\" class=\"dataframe\">\n",
       "  <thead>\n",
       "    <tr style=\"text-align: right;\">\n",
       "      <th></th>\n",
       "      <th>Lecture_Hours</th>\n",
       "      <th>Correct_Percent</th>\n",
       "    </tr>\n",
       "  </thead>\n",
       "  <tbody>\n",
       "    <tr>\n",
       "      <th>count</th>\n",
       "      <td>4.248800e+04</td>\n",
       "      <td>42488.000000</td>\n",
       "    </tr>\n",
       "    <tr>\n",
       "      <th>mean</th>\n",
       "      <td>4.688828e+06</td>\n",
       "      <td>0.606074</td>\n",
       "    </tr>\n",
       "    <tr>\n",
       "      <th>std</th>\n",
       "      <td>2.225739e+07</td>\n",
       "      <td>0.129110</td>\n",
       "    </tr>\n",
       "    <tr>\n",
       "      <th>min</th>\n",
       "      <td>6.400000e+01</td>\n",
       "      <td>0.000000</td>\n",
       "    </tr>\n",
       "    <tr>\n",
       "      <th>25%</th>\n",
       "      <td>2.182822e+05</td>\n",
       "      <td>0.545455</td>\n",
       "    </tr>\n",
       "    <tr>\n",
       "      <th>50%</th>\n",
       "      <td>7.027015e+05</td>\n",
       "      <td>0.628458</td>\n",
       "    </tr>\n",
       "    <tr>\n",
       "      <th>75%</th>\n",
       "      <td>2.915694e+06</td>\n",
       "      <td>0.691645</td>\n",
       "    </tr>\n",
       "    <tr>\n",
       "      <th>max</th>\n",
       "      <td>2.504055e+09</td>\n",
       "      <td>1.000000</td>\n",
       "    </tr>\n",
       "  </tbody>\n",
       "</table>\n",
       "</div>"
      ],
      "text/plain": [
       "       Lecture_Hours  Correct_Percent\n",
       "count   4.248800e+04     42488.000000\n",
       "mean    4.688828e+06         0.606074\n",
       "std     2.225739e+07         0.129110\n",
       "min     6.400000e+01         0.000000\n",
       "25%     2.182822e+05         0.545455\n",
       "50%     7.027015e+05         0.628458\n",
       "75%     2.915694e+06         0.691645\n",
       "max     2.504055e+09         1.000000"
      ]
     },
     "execution_count": 79,
     "metadata": {},
     "output_type": "execute_result"
    }
   ],
   "source": [
    "df.describe()"
   ]
  },
  {
   "cell_type": "code",
   "execution_count": 81,
   "id": "c277e6b1",
   "metadata": {},
   "outputs": [
    {
     "data": {
      "text/plain": [
       "<Axes: >"
      ]
     },
     "execution_count": 81,
     "metadata": {},
     "output_type": "execute_result"
    },
    {
     "data": {
      "image/png": "[encoded data removed]",
      "text/plain": [
       "<Figure size 640x480 with 1 Axes>"
      ]
     },
     "metadata": {},
     "output_type": "display_data"
    }
   ],
   "source": [
    "df[\"Correct_Percent\"].hist()"
   ]
  },
  {
   "cell_type": "code",
   "execution_count": 84,
   "id": "71fac915",
   "metadata": {},
   "outputs": [
    {
     "data": {
      "text/plain": [
       "<Axes: >"
      ]
     },
     "execution_count": 84,
     "metadata": {},
     "output_type": "execute_result"
    },
    {
     "data": {
      "image/png": "[encoded data removed]",
      "text/plain": [
       "<Figure size 640x480 with 1 Axes>"
      ]
     },
     "metadata": {},
     "output_type": "display_data"
    }
   ],
   "source": [
    "df.boxplot()"
   ]
  }
 ],
 "metadata": {
  "kernelspec": {
   "display_name": "venv (3.11.4)",
   "language": "python",
   "name": "python3"
  },
  "language_info": {
   "codemirror_mode": {
    "name": "ipython",
    "version": 3
   },
   "file_extension": ".py",
   "mimetype": "text/x-python",
   "name": "python",
   "nbconvert_exporter": "python",
   "pygments_lexer": "ipython3",
   "version": "3.11.4"
  }
 },
 "nbformat": 4,
 "nbformat_minor": 5
}
