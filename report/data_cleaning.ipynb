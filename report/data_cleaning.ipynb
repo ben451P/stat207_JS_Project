{
 "cells": [
  {
   "cell_type": "markdown",
   "id": "06075441",
   "metadata": {},
   "source": [
    "# Data Cleaning\n",
    "\n",
    "\n",
    "The goal of this document is to show the process in which the data is transformed from the KT3 dataset into the format that will be used to answer the overall research quesiton:\\\n",
    "\\\n",
    "**How does the time spent on lectures impact the performance of students in online courses?**"
   ]
  },
  {
   "cell_type": "code",
   "execution_count": null,
   "id": "6c631b42",
   "metadata": {},
   "outputs": [],
   "source": [
    "import csv, os\n",
    "import pandas as pd\n",
    "import numpy as np\n",
    "import random\n",
    "import matplotlib.pyplot as plt"
   ]
  },
  {
   "cell_type": "code",
   "execution_count": null,
   "id": "8f0f4711",
   "metadata": {},
   "outputs": [],
   "source": [
    "BASE_DIR = os.path.dirname(os.getcwd())"
   ]
  },
  {
   "cell_type": "code",
   "execution_count": null,
   "id": "e7234e17",
   "metadata": {},
   "outputs": [],
   "source": [
    "DATASET_PATH = os.path.join(BASE_DIR,\"dataset\",\"KT3\")\n",
    "CLEAN_DATASET_PATH = os.path.join(BASE_DIR,\"cleaned_dataset\")"
   ]
  },
  {
   "cell_type": "code",
   "execution_count": null,
   "id": "76c5c458",
   "metadata": {},
   "outputs": [],
   "source": []
  }
 ],
 "metadata": {
  "language_info": {
   "name": "python"
  }
 },
 "nbformat": 4,
 "nbformat_minor": 5
}
